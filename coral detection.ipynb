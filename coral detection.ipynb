{
  "nbformat": 4,
  "nbformat_minor": 0,
  "metadata": {
    "colab": {
      "provenance": []
    },
    "kernelspec": {
      "name": "python3",
      "display_name": "Python 3"
    },
    "language_info": {
      "name": "python"
    }
  },
  "cells": [
    {
      "cell_type": "markdown",
      "source": [
        "# Proyek Klasifikasi Gambar : mengenali koral laut sehat atau tidak"
      ],
      "metadata": {
        "id": "c06gGwTzhMSX"
      }
    },
    {
      "cell_type": "code",
      "source": [
        "from google.colab import drive\n",
        "drive.mount('/content/drive')"
      ],
      "metadata": {
        "colab": {
          "base_uri": "https://localhost:8080/"
        },
        "id": "AsJJippXVeru",
        "outputId": "05363542-83e7-4c88-fab0-b1a56f5cc1a3"
      },
      "execution_count": null,
      "outputs": [
        {
          "output_type": "stream",
          "name": "stdout",
          "text": [
            "Mounted at /content/drive\n"
          ]
        }
      ]
    },
    {
      "cell_type": "markdown",
      "source": [
        "pertamama saya mengunduh data"
      ],
      "metadata": {
        "id": "-xENWYadB9xL"
      }
    },
    {
      "cell_type": "code",
      "source": [
        "!pip install split-folders"
      ],
      "metadata": {
        "colab": {
          "base_uri": "https://localhost:8080/"
        },
        "id": "mBvWUfgkQH8X",
        "outputId": "11289da0-0a34-4df5-f1d4-ad2be7f981dd"
      },
      "execution_count": null,
      "outputs": [
        {
          "output_type": "stream",
          "name": "stdout",
          "text": [
            "Collecting split-folders\n",
            "  Downloading split_folders-0.5.1-py3-none-any.whl (8.4 kB)\n",
            "Installing collected packages: split-folders\n",
            "Successfully installed split-folders-0.5.1\n"
          ]
        }
      ]
    },
    {
      "cell_type": "code",
      "source": [
        "import zipfile, os\n",
        "import random\n",
        "import shutil\n",
        "import splitfolders as spf"
      ],
      "metadata": {
        "id": "XVEoAEw_P-28"
      },
      "execution_count": null,
      "outputs": []
    },
    {
      "cell_type": "code",
      "source": [
        "filedir = '/content/drive/MyDrive/Colab Notebooks/Coral/archive.zip'\n",
        "zip = zipfile.ZipFile(filedir, 'r')\n",
        "zip.extractall('/content/drive/MyDrive/Colab Notebooks/Coral/coral')\n",
        "zip.close()"
      ],
      "metadata": {
        "id": "xj-GQUoAWin0"
      },
      "execution_count": null,
      "outputs": []
    },
    {
      "cell_type": "code",
      "source": [
        "spf.ratio('/content/drive/MyDrive/Colab Notebooks/Coral/coral', output='/content/drive/MyDrive/Colab Notebooks/Coral/coral/split', ratio=(0.7,0.3), seed=1337)"
      ],
      "metadata": {
        "colab": {
          "base_uri": "https://localhost:8080/"
        },
        "id": "FV3FHhu7O1Oh",
        "outputId": "0a63fcfb-16e9-40c5-9e8f-f04c696c9d1d"
      },
      "execution_count": null,
      "outputs": [
        {
          "output_type": "stream",
          "name": "stderr",
          "text": [
            "Copying files: 923 files [00:19, 48.44 files/s]\n"
          ]
        }
      ]
    },
    {
      "cell_type": "code",
      "source": [
        "traindir = os.path.join('/content/drive/MyDrive/Colab Notebooks/Coral/coral/split','train')\n",
        "valdir = os.path.join('/content/drive/MyDrive/Colab Notebooks/Coral/coral/split','val')"
      ],
      "metadata": {
        "id": "sM3Xn700aB25"
      },
      "execution_count": null,
      "outputs": []
    },
    {
      "cell_type": "code",
      "source": [
        "from tensorflow.keras.preprocessing.image import ImageDataGenerator"
      ],
      "metadata": {
        "id": "QWWw2UkoQWXR"
      },
      "execution_count": null,
      "outputs": []
    },
    {
      "cell_type": "code",
      "source": [
        "train_datagen = ImageDataGenerator(rescale=1./255, rotation_range=20, horizontal_flip=True, vertical_flip=True, shear_range=0.2, fill_mode='nearest', validation_split=0.4)"
      ],
      "metadata": {
        "id": "qKTWAwn7bKHf"
      },
      "execution_count": null,
      "outputs": []
    },
    {
      "cell_type": "code",
      "source": [
        "val_datagen = ImageDataGenerator(rescale=1./255)"
      ],
      "metadata": {
        "id": "BKpWaQAKeQPA"
      },
      "execution_count": null,
      "outputs": []
    },
    {
      "cell_type": "code",
      "source": [
        "traingenerator = train_datagen.flow_from_directory(traindir, shuffle=True, target_size=(100,150), batch_size=25, class_mode='categorical')"
      ],
      "metadata": {
        "colab": {
          "base_uri": "https://localhost:8080/"
        },
        "id": "Xlt8R3i7eR-5",
        "outputId": "4f2b79aa-e81b-4c3c-eb37-438029960b50"
      },
      "execution_count": null,
      "outputs": [
        {
          "output_type": "stream",
          "name": "stdout",
          "text": [
            "Found 645 images belonging to 2 classes.\n"
          ]
        }
      ]
    },
    {
      "cell_type": "code",
      "source": [
        "valgenerator = val_datagen.flow_from_directory(valdir, shuffle=True, target_size=(100,150), batch_size=25, class_mode='categorical')"
      ],
      "metadata": {
        "colab": {
          "base_uri": "https://localhost:8080/"
        },
        "id": "wTOCoBasfGOv",
        "outputId": "f3d1f5a5-d69a-4037-875d-6a07b300d2f3"
      },
      "execution_count": null,
      "outputs": [
        {
          "output_type": "stream",
          "name": "stdout",
          "text": [
            "Found 278 images belonging to 2 classes.\n"
          ]
        }
      ]
    },
    {
      "cell_type": "code",
      "source": [
        "import tensorflow as tf"
      ],
      "metadata": {
        "id": "RGVwNBZ6fhhB"
      },
      "execution_count": null,
      "outputs": []
    },
    {
      "cell_type": "code",
      "source": [
        "model = tf.keras.Sequential([tf.keras.layers.Conv2D(16, (3,3), activation='relu', input_shape=(100,150,3)),\n",
        "                             tf.keras.layers.MaxPooling2D(2,2),\n",
        "                             tf.keras.layers.Conv2D(32, (3,3), activation='relu'),\n",
        "                             tf.keras.layers.MaxPooling2D(2,2),\n",
        "                             tf.keras.layers.Conv2D(64, (3,3), activation='relu'),\n",
        "                             tf.keras.layers.MaxPooling2D(2,2),\n",
        "                             tf.keras.layers.Conv2D(128, (3,3), activation='relu'),\n",
        "                             tf.keras.layers.MaxPooling2D(2,2),\n",
        "                             tf.keras.layers.Flatten(),\n",
        "                             tf.keras.layers.Dense(1024, activation='relu'),\n",
        "                             tf.keras.layers.Dense(2 ,activation = 'sigmoid'),\n",
        "                             ])"
      ],
      "metadata": {
        "id": "uUdIwsOTKslj"
      },
      "execution_count": null,
      "outputs": []
    },
    {
      "cell_type": "code",
      "source": [
        "model.summary()"
      ],
      "metadata": {
        "id": "rcB6KCpIPvr8",
        "colab": {
          "base_uri": "https://localhost:8080/"
        },
        "outputId": "ec76ad31-8117-4407-b578-ac42819c666b"
      },
      "execution_count": null,
      "outputs": [
        {
          "output_type": "stream",
          "name": "stdout",
          "text": [
            "Model: \"sequential\"\n",
            "_________________________________________________________________\n",
            " Layer (type)                Output Shape              Param #   \n",
            "=================================================================\n",
            " conv2d (Conv2D)             (None, 98, 148, 16)       448       \n",
            "                                                                 \n",
            " max_pooling2d (MaxPooling2  (None, 49, 74, 16)        0         \n",
            " D)                                                              \n",
            "                                                                 \n",
            " conv2d_1 (Conv2D)           (None, 47, 72, 32)        4640      \n",
            "                                                                 \n",
            " max_pooling2d_1 (MaxPoolin  (None, 23, 36, 32)        0         \n",
            " g2D)                                                            \n",
            "                                                                 \n",
            " conv2d_2 (Conv2D)           (None, 21, 34, 64)        18496     \n",
            "                                                                 \n",
            " max_pooling2d_2 (MaxPoolin  (None, 10, 17, 64)        0         \n",
            " g2D)                                                            \n",
            "                                                                 \n",
            " conv2d_3 (Conv2D)           (None, 8, 15, 128)        73856     \n",
            "                                                                 \n",
            " max_pooling2d_3 (MaxPoolin  (None, 4, 7, 128)         0         \n",
            " g2D)                                                            \n",
            "                                                                 \n",
            " flatten (Flatten)           (None, 3584)              0         \n",
            "                                                                 \n",
            " dense (Dense)               (None, 1024)              3671040   \n",
            "                                                                 \n",
            " dense_1 (Dense)             (None, 2)                 2050      \n",
            "                                                                 \n",
            "=================================================================\n",
            "Total params: 3770530 (14.38 MB)\n",
            "Trainable params: 3770530 (14.38 MB)\n",
            "Non-trainable params: 0 (0.00 Byte)\n",
            "_________________________________________________________________\n"
          ]
        }
      ]
    },
    {
      "cell_type": "code",
      "source": [
        "model.compile(loss=tf.keras.losses.CategoricalCrossentropy(), optimizer=tf.optimizers.Adam(), metrics=['accuracy'])"
      ],
      "metadata": {
        "id": "ap7wM5bhQfr2"
      },
      "execution_count": null,
      "outputs": []
    },
    {
      "cell_type": "code",
      "source": [
        "model.fit(traingenerator, steps_per_epoch=25, epochs=20, validation_data=valgenerator, validation_steps=5, verbose=2, )"
      ],
      "metadata": {
        "id": "e5l4D8xHPyWa",
        "colab": {
          "base_uri": "https://localhost:8080/"
        },
        "outputId": "459f2a77-e0e9-4091-a80d-a7debaf377ad"
      },
      "execution_count": null,
      "outputs": [
        {
          "output_type": "stream",
          "name": "stdout",
          "text": [
            "Epoch 1/20\n",
            "25/25 - 19s - loss: 0.7180 - accuracy: 0.5565 - val_loss: 0.6848 - val_accuracy: 0.6240 - 19s/epoch - 764ms/step\n",
            "Epoch 2/20\n",
            "25/25 - 15s - loss: 0.6662 - accuracy: 0.6323 - val_loss: 0.6227 - val_accuracy: 0.6480 - 15s/epoch - 616ms/step\n",
            "Epoch 3/20\n",
            "25/25 - 15s - loss: 0.6156 - accuracy: 0.6726 - val_loss: 0.6879 - val_accuracy: 0.5440 - 15s/epoch - 610ms/step\n",
            "Epoch 4/20\n",
            "25/25 - 15s - loss: 0.6278 - accuracy: 0.6452 - val_loss: 0.6025 - val_accuracy: 0.7040 - 15s/epoch - 609ms/step\n",
            "Epoch 5/20\n",
            "25/25 - 16s - loss: 0.6139 - accuracy: 0.7065 - val_loss: 0.6001 - val_accuracy: 0.6320 - 16s/epoch - 646ms/step\n",
            "Epoch 6/20\n",
            "25/25 - 15s - loss: 0.5704 - accuracy: 0.6816 - val_loss: 0.5455 - val_accuracy: 0.7040 - 15s/epoch - 604ms/step\n",
            "Epoch 7/20\n",
            "25/25 - 15s - loss: 0.5597 - accuracy: 0.7113 - val_loss: 0.5032 - val_accuracy: 0.7280 - 15s/epoch - 597ms/step\n",
            "Epoch 8/20\n",
            "25/25 - 18s - loss: 0.5441 - accuracy: 0.7129 - val_loss: 0.5923 - val_accuracy: 0.6800 - 18s/epoch - 738ms/step\n",
            "Epoch 9/20\n",
            "25/25 - 15s - loss: 0.5209 - accuracy: 0.7403 - val_loss: 0.6173 - val_accuracy: 0.6480 - 15s/epoch - 608ms/step\n",
            "Epoch 10/20\n",
            "25/25 - 15s - loss: 0.5291 - accuracy: 0.7387 - val_loss: 0.4619 - val_accuracy: 0.7600 - 15s/epoch - 608ms/step\n",
            "Epoch 11/20\n",
            "25/25 - 15s - loss: 0.5058 - accuracy: 0.7516 - val_loss: 0.5240 - val_accuracy: 0.7360 - 15s/epoch - 600ms/step\n",
            "Epoch 12/20\n",
            "25/25 - 15s - loss: 0.5322 - accuracy: 0.7548 - val_loss: 0.5594 - val_accuracy: 0.7760 - 15s/epoch - 616ms/step\n",
            "Epoch 13/20\n",
            "25/25 - 15s - loss: 0.5191 - accuracy: 0.7484 - val_loss: 0.5334 - val_accuracy: 0.7280 - 15s/epoch - 588ms/step\n",
            "Epoch 14/20\n",
            "25/25 - 15s - loss: 0.5310 - accuracy: 0.7500 - val_loss: 0.5476 - val_accuracy: 0.7280 - 15s/epoch - 608ms/step\n",
            "Epoch 15/20\n",
            "25/25 - 15s - loss: 0.4823 - accuracy: 0.7710 - val_loss: 0.5333 - val_accuracy: 0.6880 - 15s/epoch - 600ms/step\n",
            "Epoch 16/20\n",
            "25/25 - 17s - loss: 0.4896 - accuracy: 0.7774 - val_loss: 0.5038 - val_accuracy: 0.7280 - 17s/epoch - 687ms/step\n",
            "Epoch 17/20\n",
            "25/25 - 15s - loss: 0.5031 - accuracy: 0.7452 - val_loss: 0.5706 - val_accuracy: 0.7200 - 15s/epoch - 611ms/step\n",
            "Epoch 18/20\n",
            "25/25 - 15s - loss: 0.4843 - accuracy: 0.7532 - val_loss: 0.5250 - val_accuracy: 0.7280 - 15s/epoch - 593ms/step\n",
            "Epoch 19/20\n",
            "25/25 - 15s - loss: 0.4735 - accuracy: 0.7661 - val_loss: 0.5056 - val_accuracy: 0.6960 - 15s/epoch - 604ms/step\n",
            "Epoch 20/20\n",
            "25/25 - 15s - loss: 0.4642 - accuracy: 0.7710 - val_loss: 0.4757 - val_accuracy: 0.7680 - 15s/epoch - 592ms/step\n"
          ]
        },
        {
          "output_type": "execute_result",
          "data": {
            "text/plain": [
              "<keras.src.callbacks.History at 0x7d4b9599d540>"
            ]
          },
          "metadata": {},
          "execution_count": 13
        }
      ]
    },
    {
      "cell_type": "code",
      "source": [
        "import numpy as np\n",
        "import matplotlib.pyplot as plt\n",
        "import matplotlib.image as mpimg\n",
        "from google.colab import files\n",
        "from tensorflow.keras.preprocessing import image\n",
        "%matplotlib inline"
      ],
      "metadata": {
        "id": "0yifVCUwQaea"
      },
      "execution_count": null,
      "outputs": []
    },
    {
      "cell_type": "code",
      "source": [
        "upload_file = files.upload()\n",
        "\n",
        "for  fl in upload_file.keys():\n",
        "  imgplt = image.load_img(fl, target_size=(100,150))\n",
        "  plot = plt.imshow(imgplt)\n",
        "  x = image.img_to_array(imgplt)\n",
        "  x = np.expand_dims(x, axis=0)\n",
        "  img = np.vstack([x])\n",
        "\n",
        "  clasification = model.predict(img, batch_size=10)\n",
        "  print(clasification)\n",
        "  print(imgplt)"
      ],
      "metadata": {
        "colab": {
          "base_uri": "https://localhost:8080/",
          "height": 503
        },
        "id": "pO8V6UuBBGPT",
        "outputId": "44235a7a-78ba-4e34-e274-c01a01f395ca"
      },
      "execution_count": null,
      "outputs": [
        {
          "output_type": "display_data",
          "data": {
            "text/plain": [
              "<IPython.core.display.HTML object>"
            ],
            "text/html": [
              "\n",
              "     <input type=\"file\" id=\"files-253f1f8d-b5c9-4796-8a19-aee1a73369bf\" name=\"files[]\" multiple disabled\n",
              "        style=\"border:none\" />\n",
              "     <output id=\"result-253f1f8d-b5c9-4796-8a19-aee1a73369bf\">\n",
              "      Upload widget is only available when the cell has been executed in the\n",
              "      current browser session. Please rerun this cell to enable.\n",
              "      </output>\n",
              "      <script>// Copyright 2017 Google LLC\n",
              "//\n",
              "// Licensed under the Apache License, Version 2.0 (the \"License\");\n",
              "// you may not use this file except in compliance with the License.\n",
              "// You may obtain a copy of the License at\n",
              "//\n",
              "//      http://www.apache.org/licenses/LICENSE-2.0\n",
              "//\n",
              "// Unless required by applicable law or agreed to in writing, software\n",
              "// distributed under the License is distributed on an \"AS IS\" BASIS,\n",
              "// WITHOUT WARRANTIES OR CONDITIONS OF ANY KIND, either express or implied.\n",
              "// See the License for the specific language governing permissions and\n",
              "// limitations under the License.\n",
              "\n",
              "/**\n",
              " * @fileoverview Helpers for google.colab Python module.\n",
              " */\n",
              "(function(scope) {\n",
              "function span(text, styleAttributes = {}) {\n",
              "  const element = document.createElement('span');\n",
              "  element.textContent = text;\n",
              "  for (const key of Object.keys(styleAttributes)) {\n",
              "    element.style[key] = styleAttributes[key];\n",
              "  }\n",
              "  return element;\n",
              "}\n",
              "\n",
              "// Max number of bytes which will be uploaded at a time.\n",
              "const MAX_PAYLOAD_SIZE = 100 * 1024;\n",
              "\n",
              "function _uploadFiles(inputId, outputId) {\n",
              "  const steps = uploadFilesStep(inputId, outputId);\n",
              "  const outputElement = document.getElementById(outputId);\n",
              "  // Cache steps on the outputElement to make it available for the next call\n",
              "  // to uploadFilesContinue from Python.\n",
              "  outputElement.steps = steps;\n",
              "\n",
              "  return _uploadFilesContinue(outputId);\n",
              "}\n",
              "\n",
              "// This is roughly an async generator (not supported in the browser yet),\n",
              "// where there are multiple asynchronous steps and the Python side is going\n",
              "// to poll for completion of each step.\n",
              "// This uses a Promise to block the python side on completion of each step,\n",
              "// then passes the result of the previous step as the input to the next step.\n",
              "function _uploadFilesContinue(outputId) {\n",
              "  const outputElement = document.getElementById(outputId);\n",
              "  const steps = outputElement.steps;\n",
              "\n",
              "  const next = steps.next(outputElement.lastPromiseValue);\n",
              "  return Promise.resolve(next.value.promise).then((value) => {\n",
              "    // Cache the last promise value to make it available to the next\n",
              "    // step of the generator.\n",
              "    outputElement.lastPromiseValue = value;\n",
              "    return next.value.response;\n",
              "  });\n",
              "}\n",
              "\n",
              "/**\n",
              " * Generator function which is called between each async step of the upload\n",
              " * process.\n",
              " * @param {string} inputId Element ID of the input file picker element.\n",
              " * @param {string} outputId Element ID of the output display.\n",
              " * @return {!Iterable<!Object>} Iterable of next steps.\n",
              " */\n",
              "function* uploadFilesStep(inputId, outputId) {\n",
              "  const inputElement = document.getElementById(inputId);\n",
              "  inputElement.disabled = false;\n",
              "\n",
              "  const outputElement = document.getElementById(outputId);\n",
              "  outputElement.innerHTML = '';\n",
              "\n",
              "  const pickedPromise = new Promise((resolve) => {\n",
              "    inputElement.addEventListener('change', (e) => {\n",
              "      resolve(e.target.files);\n",
              "    });\n",
              "  });\n",
              "\n",
              "  const cancel = document.createElement('button');\n",
              "  inputElement.parentElement.appendChild(cancel);\n",
              "  cancel.textContent = 'Cancel upload';\n",
              "  const cancelPromise = new Promise((resolve) => {\n",
              "    cancel.onclick = () => {\n",
              "      resolve(null);\n",
              "    };\n",
              "  });\n",
              "\n",
              "  // Wait for the user to pick the files.\n",
              "  const files = yield {\n",
              "    promise: Promise.race([pickedPromise, cancelPromise]),\n",
              "    response: {\n",
              "      action: 'starting',\n",
              "    }\n",
              "  };\n",
              "\n",
              "  cancel.remove();\n",
              "\n",
              "  // Disable the input element since further picks are not allowed.\n",
              "  inputElement.disabled = true;\n",
              "\n",
              "  if (!files) {\n",
              "    return {\n",
              "      response: {\n",
              "        action: 'complete',\n",
              "      }\n",
              "    };\n",
              "  }\n",
              "\n",
              "  for (const file of files) {\n",
              "    const li = document.createElement('li');\n",
              "    li.append(span(file.name, {fontWeight: 'bold'}));\n",
              "    li.append(span(\n",
              "        `(${file.type || 'n/a'}) - ${file.size} bytes, ` +\n",
              "        `last modified: ${\n",
              "            file.lastModifiedDate ? file.lastModifiedDate.toLocaleDateString() :\n",
              "                                    'n/a'} - `));\n",
              "    const percent = span('0% done');\n",
              "    li.appendChild(percent);\n",
              "\n",
              "    outputElement.appendChild(li);\n",
              "\n",
              "    const fileDataPromise = new Promise((resolve) => {\n",
              "      const reader = new FileReader();\n",
              "      reader.onload = (e) => {\n",
              "        resolve(e.target.result);\n",
              "      };\n",
              "      reader.readAsArrayBuffer(file);\n",
              "    });\n",
              "    // Wait for the data to be ready.\n",
              "    let fileData = yield {\n",
              "      promise: fileDataPromise,\n",
              "      response: {\n",
              "        action: 'continue',\n",
              "      }\n",
              "    };\n",
              "\n",
              "    // Use a chunked sending to avoid message size limits. See b/62115660.\n",
              "    let position = 0;\n",
              "    do {\n",
              "      const length = Math.min(fileData.byteLength - position, MAX_PAYLOAD_SIZE);\n",
              "      const chunk = new Uint8Array(fileData, position, length);\n",
              "      position += length;\n",
              "\n",
              "      const base64 = btoa(String.fromCharCode.apply(null, chunk));\n",
              "      yield {\n",
              "        response: {\n",
              "          action: 'append',\n",
              "          file: file.name,\n",
              "          data: base64,\n",
              "        },\n",
              "      };\n",
              "\n",
              "      let percentDone = fileData.byteLength === 0 ?\n",
              "          100 :\n",
              "          Math.round((position / fileData.byteLength) * 100);\n",
              "      percent.textContent = `${percentDone}% done`;\n",
              "\n",
              "    } while (position < fileData.byteLength);\n",
              "  }\n",
              "\n",
              "  // All done.\n",
              "  yield {\n",
              "    response: {\n",
              "      action: 'complete',\n",
              "    }\n",
              "  };\n",
              "}\n",
              "\n",
              "scope.google = scope.google || {};\n",
              "scope.google.colab = scope.google.colab || {};\n",
              "scope.google.colab._files = {\n",
              "  _uploadFiles,\n",
              "  _uploadFilesContinue,\n",
              "};\n",
              "})(self);\n",
              "</script> "
            ]
          },
          "metadata": {}
        },
        {
          "output_type": "stream",
          "name": "stdout",
          "text": [
            "Saving 189518468_76ff603ccc_b.jpg to 189518468_76ff603ccc_b.jpg\n",
            "1/1 [==============================] - 0s 171ms/step\n",
            "[[1. 0.]]\n",
            "<PIL.Image.Image image mode=RGB size=150x100 at 0x7D4B6589D180>\n"
          ]
        },
        {
          "output_type": "display_data",
          "data": {
            "text/plain": [
              "<Figure size 640x480 with 1 Axes>"
            ],
            "image/png": "[encoded data removed]"
          },
          "metadata": {}
        }
      ]
    },
    {
      "cell_type": "code",
      "source": [],
      "metadata": {
        "id": "fME47EA-FHST"
      },
      "execution_count": null,
      "outputs": []
    }
  ]
}